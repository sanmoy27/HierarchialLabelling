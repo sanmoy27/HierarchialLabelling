{
 "cells": [
  {
   "cell_type": "code",
   "execution_count": 50,
   "metadata": {},
   "outputs": [],
   "source": [
    "import os\n",
    "import pandas as pd\n",
    "import numpy as np\n",
    "import json\n",
    "from dotenv import load_dotenv\n",
    "from langchain.embeddings import OpenAIEmbeddings\n",
    "from langchain.embeddings import HuggingFaceEmbeddings\n",
    "from langchain.prompts.example_selector import SemanticSimilarityExampleSelector, MaxMarginalRelevanceExampleSelector\n",
    "# from langchain.prompts.example_selector.semantic_similarity import EmbeddingBasedExampleSelector\n",
    "from langchain_google_genai import GoogleGenerativeAIEmbeddings\n",
    "from langchain_core.prompts import FewShotPromptTemplate, PromptTemplate\n",
    "from langchain.vectorstores import FAISS\n",
    "from langchain.schema import Document\n",
    "from langchain.text_splitter import CharacterTextSplitter\n",
    "from langchain_core.output_parsers import JsonOutputParser\n",
    "from langchain_groq import ChatGroq\n",
    "from prompt import Prompt\n",
    "from pydantic import BaseModel, Field\n",
    "from typing import List\n",
    "from tqdm import tqdm\n",
    "from accuracy import AccuracyMetric\n",
    "import copy"
   ]
  },
  {
   "cell_type": "code",
   "execution_count": 3,
   "metadata": {},
   "outputs": [
    {
     "data": {
      "text/plain": [
       "<function dotenv.main.load_dotenv(dotenv_path: Union[str, ForwardRef('os.PathLike[str]'), NoneType] = None, stream: Optional[IO[str]] = None, verbose: bool = False, override: bool = False, interpolate: bool = True, encoding: Optional[str] = 'utf-8') -> bool>"
      ]
     },
     "execution_count": 3,
     "metadata": {},
     "output_type": "execute_result"
    }
   ],
   "source": [
    "load_dotenv"
   ]
  },
  {
   "cell_type": "markdown",
   "metadata": {},
   "source": [
    "# Read the api key"
   ]
  },
  {
   "cell_type": "code",
   "execution_count": 4,
   "metadata": {},
   "outputs": [],
   "source": [
    "groq_api_key = os.getenv('GROQ_API_KEY')\n",
    "google_api_key = os.getenv('GOOGLE_API_KEY')\n"
   ]
  },
  {
   "cell_type": "code",
   "execution_count": 5,
   "metadata": {},
   "outputs": [],
   "source": [
    "pt = Prompt()"
   ]
  },
  {
   "cell_type": "markdown",
   "metadata": {},
   "source": [
    "## Create the Prompt Template"
   ]
  },
  {
   "cell_type": "code",
   "execution_count": 6,
   "metadata": {},
   "outputs": [],
   "source": [
    "class Label(BaseModel):\n",
    "    parent: str\n",
    "    child: str\n",
    "\n",
    "class Review(BaseModel):\n",
    "    # review: str = Field(\n",
    "    #     description=\"The text of the review to be analyzed.\"\n",
    "    # )\n",
    "    labels: List[Label] = Field(\n",
    "        description=\"The labels or categories assigned to the review.\"\n",
    "    )\n",
    "\n",
    "\n",
    "review_parser = JsonOutputParser(pydantic_object=Review)"
   ]
  },
  {
   "cell_type": "code",
   "execution_count": 7,
   "metadata": {},
   "outputs": [],
   "source": [
    "review_prompt = PromptTemplate.from_template(\n",
    "    pt.label_prompt(),\n",
    "    # partial_variables={\"format_instructions\": review_parser.get_format_instructions()}\n",
    ")"
   ]
  },
  {
   "cell_type": "code",
   "execution_count": 8,
   "metadata": {},
   "outputs": [],
   "source": [
    "# pip install -r requirements.txt\n",
    "# ! pip install langchain-groq\n",
    "# ! pip install sentence-transformers"
   ]
  },
  {
   "cell_type": "code",
   "execution_count": 8,
   "metadata": {},
   "outputs": [],
   "source": [
    "# !pip install langchain langchainhub faiss-cpu groq openai"
   ]
  },
  {
   "cell_type": "markdown",
   "metadata": {},
   "source": [
    "## Read the Train data"
   ]
  },
  {
   "cell_type": "code",
   "execution_count": 9,
   "metadata": {},
   "outputs": [],
   "source": [
    "train_df = pd.read_excel(\"data/bodywash-train.xlsx\", \\\n",
    "                        sheet_name=\"cbw_kwbase\",\\\n",
    "                        usecols=['Core Item', 'Level 1 (PARENT)', 'Level 2 (CHILD)'])"
   ]
  },
  {
   "cell_type": "code",
   "execution_count": 10,
   "metadata": {},
   "outputs": [],
   "source": [
    "# rows_to_drop = train_data.sample(n=5, random_state=42)\n",
    "# valid_df = train_data.loc[rows_to_drop.index]\n",
    "# train_df = train_data.drop(rows_to_drop.index)"
   ]
  },
  {
   "cell_type": "markdown",
   "metadata": {},
   "source": [
    "## Convert the data into JSON"
   ]
  },
  {
   "cell_type": "code",
   "execution_count": 11,
   "metadata": {},
   "outputs": [],
   "source": [
    "def convert_to_json(data):\n",
    "    results = []\n",
    "    for text, group in data.groupby('Core Item'):\n",
    "        labels = []\n",
    "        for _, row in group.iterrows():\n",
    "            obj = dict()\n",
    "            obj['parent'] = row['Level 1 (PARENT)']\n",
    "            obj['child'] = row['Level 2 (CHILD)']\n",
    "            labels.append(obj)\n",
    "        results.append(\n",
    "            {\n",
    "                \"review\":text,\n",
    "                \"labels\":labels\n",
    "            }\n",
    "        )\n",
    "    return results"
   ]
  },
  {
   "cell_type": "code",
   "execution_count": 12,
   "metadata": {},
   "outputs": [
    {
     "name": "stdout",
     "output_type": "stream",
     "text": [
      "Train Results:2790\n"
     ]
    }
   ],
   "source": [
    "train_results = convert_to_json(train_df)\n",
    "print(f\"Train Results:{len(train_results)}\")"
   ]
  },
  {
   "cell_type": "code",
   "execution_count": null,
   "metadata": {},
   "outputs": [],
   "source": []
  },
  {
   "cell_type": "markdown",
   "metadata": {},
   "source": [
    "## Split into Train and Valid Set"
   ]
  },
  {
   "cell_type": "code",
   "execution_count": 13,
   "metadata": {},
   "outputs": [],
   "source": [
    "import random\n",
    "valid_data = random.sample(train_results, 250)\n",
    "# Remove valid_data from results to get the new train_data\n",
    "valid_set = set([json.dumps(obj, sort_keys=True) for obj in valid_data])\n",
    "train_data = [obj for obj in train_results if json.dumps(obj, sort_keys=True) not in valid_set]\n",
    "with open(\"data/valid_data.json\", \"w\") as f:\n",
    "    json.dump(valid_data, f, indent=2)\n",
    "with open(\"data/train_data_new.json\", \"w\") as f:\n",
    "    json.dump(train_data, f, indent=2)"
   ]
  },
  {
   "cell_type": "code",
   "execution_count": 14,
   "metadata": {},
   "outputs": [
    {
     "name": "stdout",
     "output_type": "stream",
     "text": [
      "Len of train data: 2540\n",
      "Len of valid data: 250\n"
     ]
    }
   ],
   "source": [
    "print(f\"Len of train data: {len(train_data)}\")\n",
    "print(f\"Len of valid data: {len(valid_data)}\")"
   ]
  },
  {
   "cell_type": "code",
   "execution_count": 15,
   "metadata": {},
   "outputs": [],
   "source": [
    "with open(\"data/train_data_new.json\", \"r\") as json_file:\n",
    "    train_data = json.load(json_file)"
   ]
  },
  {
   "cell_type": "code",
   "execution_count": null,
   "metadata": {},
   "outputs": [],
   "source": []
  },
  {
   "cell_type": "markdown",
   "metadata": {},
   "source": [
    "## Format the Data for creating embeddings in FAISS"
   ]
  },
  {
   "cell_type": "code",
   "execution_count": 16,
   "metadata": {},
   "outputs": [],
   "source": [
    "def format_data(data):\n",
    "    docs = []\n",
    "    formatted_examples = []\n",
    "    for entry in data:\n",
    "        text = entry[\"review\"]\n",
    "        labels = \"; \".join([f\"{label['parent']} > {label['child']}\" for label in entry[\"labels\"]])\n",
    "        metadata = {\"labels\": labels}\n",
    "        formatted_examples.append({\n",
    "            \"review\": text,\n",
    "            \"labels\": labels\n",
    "        })  \n",
    "        # docs.append(Document(page_content=text, metadata=metadata))\n",
    "\n",
    "    return formatted_examples"
   ]
  },
  {
   "cell_type": "code",
   "execution_count": 21,
   "metadata": {},
   "outputs": [],
   "source": [
    "formatted_examples = format_data(train_data)"
   ]
  },
  {
   "cell_type": "markdown",
   "metadata": {},
   "source": [
    "## Initialize Embedding Model"
   ]
  },
  {
   "cell_type": "code",
   "execution_count": 20,
   "metadata": {},
   "outputs": [
    {
     "name": "stderr",
     "output_type": "stream",
     "text": [
      "C:\\Users\\sanmo\\AppData\\Local\\Temp\\ipykernel_12508\\4063641790.py:2: LangChainDeprecationWarning: The class `HuggingFaceEmbeddings` was deprecated in LangChain 0.2.2 and will be removed in 1.0. An updated version of the class exists in the :class:`~langchain-huggingface package and should be used instead. To use it run `pip install -U :class:`~langchain-huggingface` and import as `from :class:`~langchain_huggingface import HuggingFaceEmbeddings``.\n",
      "  embeddings = HuggingFaceEmbeddings(model_name=\"all-MiniLM-L6-v2\")\n"
     ]
    }
   ],
   "source": [
    "# embeddings = OpenAIEmbeddings(openai_api_key=groq_api_key, model=\"text-embedding-3-small\")\n",
    "embeddings = HuggingFaceEmbeddings(model_name=\"all-MiniLM-L6-v2\")"
   ]
  },
  {
   "cell_type": "code",
   "execution_count": null,
   "metadata": {},
   "outputs": [],
   "source": [
    "# ## Create a Faiss Index\n",
    "# db = FAISS.from_documents(docs, embeddings)"
   ]
  },
  {
   "cell_type": "code",
   "execution_count": null,
   "metadata": {},
   "outputs": [],
   "source": [
    "# db.save_local(\"faiss_index\")"
   ]
  },
  {
   "cell_type": "code",
   "execution_count": 22,
   "metadata": {},
   "outputs": [],
   "source": [
    "# query = \"Love this!-Both my wife and use this! nice neutral scent!\"\n",
    "# test_response = db.similarity_search(query, k=2)\n",
    "# for r in test_response:\n",
    "#     print(\"Review:\", r.page_content)\n",
    "#     print(\"Labels:\", r.metadata[\"labels\"])"
   ]
  },
  {
   "cell_type": "markdown",
   "metadata": {},
   "source": [
    "## Use Example Selector as a context to LLM"
   ]
  },
  {
   "cell_type": "code",
   "execution_count": 23,
   "metadata": {},
   "outputs": [],
   "source": [
    "## Usig Example Selector\n",
    "example_selector = MaxMarginalRelevanceExampleSelector.from_examples(\n",
    "    # The list of examples available to select from.\n",
    "    formatted_examples,\n",
    "    # The embedding class used to produce embeddings which are used to measure semantic similarity.\n",
    "    embeddings,\n",
    "    # The VectorStore class that is used to store the embeddings and do a similarity search over.\n",
    "    FAISS,\n",
    "    # The number of examples to produce.\n",
    "    k=5,\n",
    ")"
   ]
  },
  {
   "cell_type": "code",
   "execution_count": 24,
   "metadata": {},
   "outputs": [],
   "source": [
    "example_prompt = PromptTemplate(\n",
    "    input_variables=[\"review\", \"labels\"],\n",
    "    template=\"review: {review}\\labels: {labels}\",\n",
    ")"
   ]
  },
  {
   "cell_type": "code",
   "execution_count": 25,
   "metadata": {},
   "outputs": [],
   "source": [
    "similar_prompt = FewShotPromptTemplate(\n",
    "    # We provide an ExampleSelector instead of examples.\n",
    "    example_selector=example_selector,\n",
    "    example_prompt=example_prompt,\n",
    "    prefix=\"Give the labels for the following review:\\n\",\n",
    "    suffix=\"review: {review}\\nlabels:\",\n",
    "    input_variables=[\"review\"],\n",
    ")"
   ]
  },
  {
   "cell_type": "code",
   "execution_count": 26,
   "metadata": {},
   "outputs": [],
   "source": [
    "def label_examples_rag_mmr(query):\n",
    "    return similar_prompt.format(review=query)\n",
    "# print(similar_prompt.format(review=query))"
   ]
  },
  {
   "cell_type": "markdown",
   "metadata": {},
   "source": [
    "## Initialize LLM"
   ]
  },
  {
   "cell_type": "code",
   "execution_count": 27,
   "metadata": {},
   "outputs": [],
   "source": [
    "llm = llm = ChatGroq(\n",
    "    model=\"llama-3.1-8b-instant\",\n",
    "    temperature=0\n",
    ")"
   ]
  },
  {
   "cell_type": "markdown",
   "metadata": {},
   "source": [
    "## Get the Lables for Review"
   ]
  },
  {
   "cell_type": "code",
   "execution_count": 28,
   "metadata": {},
   "outputs": [],
   "source": [
    "def get_labels(review):\n",
    "    \"\"\"\n",
    "    Get labels for a given review using the example selector and prompt.\n",
    "    Returns the response as a parsed JSON object.\n",
    "    \"\"\"\n",
    "\n",
    "    examples = label_examples_rag_mmr(review)\n",
    "    \n",
    "    label_chain = review_prompt | llm | review_parser\n",
    "    response = label_chain.invoke({\"review\": review, \n",
    "                                   \"examples\":examples})\n",
    "    \n",
    "    return response"
   ]
  },
  {
   "cell_type": "code",
   "execution_count": 18,
   "metadata": {},
   "outputs": [],
   "source": [
    "# query=\"Amazing and best one out there!-Awesome!\"\n",
    "# label_obj = get_labels(query)"
   ]
  },
  {
   "cell_type": "code",
   "execution_count": 29,
   "metadata": {},
   "outputs": [],
   "source": [
    "def get_labels_for_valid_data(valid_data):\n",
    "    valid_pred = []\n",
    "    for valid_review in tqdm(valid_data):\n",
    "        text = valid_review[\"review\"]\n",
    "        cleaned_txt = text.replace('\\n', '').replace('\\r', '')\n",
    "        label_obj = get_labels(text)\n",
    "        # Filter out label objects with missing or empty parent/child\n",
    "        filtered_labels = [\n",
    "            obj for obj in label_obj[\"labels\"]\n",
    "            if (\n",
    "                \"parent\" in obj and \"child\" in obj and\n",
    "                obj[\"parent\"].strip() != \"\" and\n",
    "                obj[\"child\"].strip() != \"\"\n",
    "            )\n",
    "        ]\n",
    "        label_obj[\"labels\"] = filtered_labels\n",
    "        label_obj[\"review\"] = cleaned_txt\n",
    "        valid_pred.append(label_obj)\n",
    "    return valid_pred"
   ]
  },
  {
   "cell_type": "code",
   "execution_count": 31,
   "metadata": {},
   "outputs": [
    {
     "name": "stderr",
     "output_type": "stream",
     "text": [
      "100%|██████████| 250/250 [36:16<00:00,  8.71s/it]\n"
     ]
    }
   ],
   "source": [
    "valid_pred_rslt = get_labels_for_valid_data(valid_data)"
   ]
  },
  {
   "cell_type": "code",
   "execution_count": null,
   "metadata": {},
   "outputs": [],
   "source": [
    "with open(\"data/valid_pred.json\", \"w\") as f:\n",
    "    json.dump(valid_pred_rslt, f, indent=2)"
   ]
  },
  {
   "cell_type": "code",
   "execution_count": 8,
   "metadata": {},
   "outputs": [],
   "source": [
    "with open(\"data/valid_pred.json\", \"r\") as json_file:\n",
    "    valid_pred_rslt = json.load(json_file)"
   ]
  },
  {
   "cell_type": "code",
   "execution_count": 9,
   "metadata": {},
   "outputs": [],
   "source": [
    "with open(\"data/valid_data.json\", \"r\") as json_file:\n",
    "    valid_data = json.load(json_file)"
   ]
  },
  {
   "cell_type": "code",
   "execution_count": 10,
   "metadata": {},
   "outputs": [
    {
     "name": "stdout",
     "output_type": "stream",
     "text": [
      "250\n",
      "250\n"
     ]
    }
   ],
   "source": [
    "print(len(valid_pred_rslt))\n",
    "print(len(valid_data))"
   ]
  },
  {
   "cell_type": "code",
   "execution_count": 11,
   "metadata": {},
   "outputs": [],
   "source": [
    "_, format_valid_pred = format_data(valid_pred_rslt)"
   ]
  },
  {
   "cell_type": "code",
   "execution_count": 12,
   "metadata": {},
   "outputs": [],
   "source": [
    "_, format_valid_data = format_data(valid_data)"
   ]
  },
  {
   "cell_type": "markdown",
   "metadata": {},
   "source": [
    "## Accuracy Metric for Validation Set"
   ]
  },
  {
   "cell_type": "code",
   "execution_count": 13,
   "metadata": {},
   "outputs": [],
   "source": [
    "acc = AccuracyMetric()"
   ]
  },
  {
   "cell_type": "markdown",
   "metadata": {},
   "source": [
    "## Jaccard Similarity"
   ]
  },
  {
   "cell_type": "code",
   "execution_count": 14,
   "metadata": {},
   "outputs": [
    {
     "name": "stdout",
     "output_type": "stream",
     "text": [
      "[⚠️ Warning] Review text mismatch:\n",
      "love this stuff-love the smell.so fresh and so clean\n",
      "love this stuff-love the smell.\n",
      "so fresh and so clean\n",
      "\n",
      "[⚠️ Warning] Review text mismatch:\n",
      "this was a complimentary gift for joining harry's which i think is an amazing idea for them to allow you to pick a product you would like to try for free which i haven't seen a company do before. my husband and son love using this body wash! it smells really good and cleans really well.this was a complimentary gift for joining harry's which i think is an amazing idea for them to allow you to pick a product you would like to try for free which i haven't seen a company do before. my husband and son love using this body wash! it smells really good and cleans really well.body skin concerns:stretch marks\n",
      "this was a complimentary gift for joining harry's which i think is an amazing idea for them to allow you to pick a product you would like to try for free which i haven't seen a company do before. my husband and son love using this body wash! it smells really good and cleans really well.\n",
      "this was a complimentary gift for joining harry's which i think is an amazing idea for them to allow you to pick a product you would like to try for free which i haven't seen a company do before. my husband and son love using this body wash! it smells really good and cleans really well.\n",
      "body skin concerns:stretch marks\n",
      "\n",
      "[⚠️ Warning] Review text mismatch:\n",
      "best scent!i am pleased with the scent! my husband has grown up wearing old spice. please advise in advance when wilderness discontinues so i can stock up !\n",
      "best scent!\n",
      "i am pleased with the scent! my husband has grown up wearing old spice. please advise in advance when wilderness discontinues so i can stock up !\n",
      "\n",
      "[⚠️ Warning] Review text mismatch:\n",
      "yeah, this is good-very nice smell and lathers up extremely wellmakes my skin feel soft and smooth. will definitely order more. believe others would be very happy with this body washi have tried other every man jack products and have been pleased with all of them.very nice smell and lathers up extremely wellmakes my skin feel soft and smooth. will definitely order more. believe others would be very happy with this body washi have tried other every man jack products and have been pleased with all of them.\n",
      "yeah, this is good-very nice smell and lathers up extremely well\n",
      "makes my skin feel soft and smooth. will definitely order more. believe others would be very happy with this body wash\n",
      "i have tried other every man jack products and have been pleased with all of them.\n",
      "very nice smell and lathers up extremely well\n",
      "makes my skin feel soft and smooth. will definitely order more. believe others would be very happy with this body wash\n",
      "i have tried other every man jack products and have been pleased with all of them.\n",
      "\n",
      "[⚠️ Warning] Review text mismatch:\n",
      "good stuff-first of all may i say it is a little expensive for an everyday soap. it makes your skin soft and very clean. the odor does not last on your body at least i can't smell it. i ran a test with my masseur. i took a shower using the cedarwood fragrance right before i had my appointment with her. i was with her less than 15 minutes after my shower. she told me there was hardly any fragrance coming off my body from the soap.i have both fragrances and have not tried the mint yet but i will run the same test on that one and let you know.\n",
      "good stuff-first of all may i say it is a little expensive for an everyday soap. it makes your skin soft and very clean. the odor does not last on your body at least i can't smell it. i ran a test with my masseur. i took a shower using the cedarwood fragrance right before i had my appointment with her. i was with her less than 15 minutes after my shower. she told me there was hardly any fragrance coming off my body from the soap.\n",
      "i have both fragrances and have not tried the mint yet but i will run the same test on that one and let you know.\n",
      "\n",
      "[⚠️ Warning] Review text mismatch:\n",
      "love this!-this is an amazing products for men. it has both face and body wash. and you needn't buy different bottles for either of the areas. it works like a charm and you can you it in the shower while you're taking a shower. the texture is amazing smooth and creamy. it smells nice and the effects after washing it off leaves you fresh and charged for the rest of the day/evening. definitely recommend this to anyone who would be interested in buying a single bottle for both the face and body.\n",
      "love this!-this is an amazing products for men. it has both face and body wash. and you needn't buy different bottles for either of the areas. it works like a charm and you can you it in the shower while you're taking a shower. \n",
      "the texture is amazing smooth and creamy. it smells nice and the effects after washing it off leaves you fresh and charged for the rest of the day/evening. \n",
      "definitely recommend this to anyone who would be interested in buying a single bottle for both the face and body.\n",
      "\n",
      "[⚠️ Warning] Review text mismatch:\n",
      "a real man's axe!-this stuff smells amazing!my only complaint is the stickers that came on it to hold them shut are suuuper difficult to peel off, and even took some of the bottle lettering with it.\n",
      "a real man's axe!-this stuff smells amazing!\n",
      "\n",
      "my only complaint is the stickers that came on it to hold them shut are suuuper difficult to peel off, and even took some of the bottle lettering with it.\n",
      "\n",
      "[⚠️ Warning] Review text mismatch:\n",
      "the only shower gel i've ever liked-it only takes about a tablespoon and a half to make an abundance of lather. based on how much lather i rinse out of the washcloth, it's nearly too much lather, actually, but i like a lot of suds.this stuff smells incredible too. i'm smelling my arm as i type this and can still smell it on my skin 2 hrs after i showered...and i have a stuffy nose today. that's impressive to me.this is the the only shower gel i'll ever use again.\n",
      "the only shower gel i've ever liked-it only takes about a tablespoon and a half to make an abundance of lather. based on how much lather i rinse out of the washcloth, it's nearly too much lather, actually, but i like a lot of suds.\n",
      "\n",
      "this stuff smells incredible too. i'm smelling my arm as i type this and can still smell it on my skin 2 hrs after i showered...and i have a stuffy nose today. that's impressive to me.\n",
      "\n",
      "this is the the only shower gel i'll ever use again.\n",
      "\n",
      "[⚠️ Warning] Review text mismatch:\n",
      "the best fragrance in axe history-my local grocery store kroger no longer carries this item, luckily i was able to get via amazon. this is by far the best fragrance that axe has ever put out and the best product i've ever used from the axe product line. rinses off clean unlike others and the scent is masculine and not overpowering.wish they had this scent throughout their entire distribution of products\n",
      "the best fragrance in axe history-my local grocery store kroger no longer carries this item, luckily i was able to get via amazon. this is by far the best fragrance that axe has ever put out and the best product i've ever used from the axe product line. rinses off clean unlike others and the scent is masculine and not overpowering.\n",
      "wish they had this scent throughout their entire distribution of products\n",
      "\n",
      "[⚠️ Warning] Review text mismatch:\n",
      "great product but...-i actually really liked this body wash. lots of suds. i was not overly excited about the scent. i kept thinking about tarts in the shower. i would have preferred the scent used on the face soap i was sent . it works great but check the scent to see if it is for you.\n",
      "great product but...-i actually really liked this body wash. lots of suds. i was not overly excited about the scent. i kept thinking about tarts in the shower. i would have preferred the scent used on the face soap i was sent . \n",
      "\n",
      "it works great but check the scent to see if it is for you.\n",
      "\n",
      "[⚠️ Warning] Review text mismatch:\n",
      "pass...worthless and unusable.-like some others, mine was delivered with a gel that is more like caulking or glue. i couldn't even squeeze this stuff out of the bottle without removing the cap. when i was able to get some out, it's like a big blob of clear caulking.great for sealing up the shower drain! i dropped the blob of this stuff in the shower, hoping to get something i could use out of the bottle, then forgot about it. next thing i know water is starting to pool. confused, i ran my foot over the drain, moving the clear mass and the water drained.\n",
      "pass...worthless and unusable.-like some others, mine was delivered with a gel that is more like caulking or glue. i couldn't even squeeze this stuff out of the bottle without removing the cap. when i was able to get some out, it's like a big blob of clear caulking.\n",
      "\n",
      "great for sealing up the shower drain! i dropped the blob of this stuff in the shower, hoping to get something i could use out of the bottle, then forgot about it. next thing i know water is starting to pool. confused, i ran my foot over the drain, moving the clear mass and the water drained.\n",
      "\n",
      "\n",
      "📊 Average Jaccard Accuracy: 25.48%\n"
     ]
    }
   ],
   "source": [
    "accuracy, per_sample = acc.compute_classification_accuracy(format_valid_pred, format_valid_data)\n",
    "\n",
    "print(f\"\\n📊 Average Jaccard Accuracy: {accuracy:.2%}\")"
   ]
  },
  {
   "cell_type": "code",
   "execution_count": 15,
   "metadata": {},
   "outputs": [],
   "source": [
    "# ! pip install rouge-score"
   ]
  },
  {
   "cell_type": "markdown",
   "metadata": {},
   "source": [
    "## Rouge Score"
   ]
  },
  {
   "cell_type": "code",
   "execution_count": 16,
   "metadata": {},
   "outputs": [],
   "source": [
    "rouge1, rouge2 = acc.compute_rouge_n(format_valid_pred, format_valid_data)"
   ]
  },
  {
   "cell_type": "code",
   "execution_count": 17,
   "metadata": {},
   "outputs": [
    {
     "name": "stdout",
     "output_type": "stream",
     "text": [
      "📊 ROUGE-1 F1: 40.67%\n",
      "📊 ROUGE-2 F1: 30.29%\n"
     ]
    }
   ],
   "source": [
    "print(f\"📊 ROUGE-1 F1: {rouge1:.2%}\")\n",
    "print(f\"📊 ROUGE-2 F1: {rouge2:.2%}\")"
   ]
  },
  {
   "cell_type": "markdown",
   "metadata": {},
   "source": [
    "## Test set Prediction"
   ]
  },
  {
   "cell_type": "code",
   "execution_count": 39,
   "metadata": {},
   "outputs": [],
   "source": [
    "test_df = pd.read_excel(\"data/bodywash-test.xlsx\", \\\n",
    "                        sheet_name=\"Sheet1\",\\\n",
    "                        usecols=[\"Core Item\"])\n",
    "test_df.rename(columns={\"Core Item\": \"review\"}, inplace=True)"
   ]
  },
  {
   "cell_type": "code",
   "execution_count": 40,
   "metadata": {},
   "outputs": [
    {
     "data": {
      "text/plain": [
       "(216, 1)"
      ]
     },
     "execution_count": 40,
     "metadata": {},
     "output_type": "execute_result"
    }
   ],
   "source": [
    "test_df.shape"
   ]
  },
  {
   "cell_type": "code",
   "execution_count": 45,
   "metadata": {},
   "outputs": [],
   "source": [
    "test_data = test_df.to_dict(orient='records')"
   ]
  },
  {
   "cell_type": "code",
   "execution_count": null,
   "metadata": {},
   "outputs": [],
   "source": []
  },
  {
   "cell_type": "code",
   "execution_count": 47,
   "metadata": {},
   "outputs": [
    {
     "name": "stderr",
     "output_type": "stream",
     "text": [
      "100%|██████████| 216/216 [1:27:49<00:00, 24.40s/it]   \n"
     ]
    }
   ],
   "source": [
    "test_data_rslt = get_labels_for_valid_data(test_data)"
   ]
  },
  {
   "cell_type": "code",
   "execution_count": 51,
   "metadata": {},
   "outputs": [],
   "source": [
    "def clean_labels(data):\n",
    "    cleaned = copy.deepcopy(data)\n",
    "    for entry in cleaned:\n",
    "        entry['labels'] = [\n",
    "            label for label in entry['labels']\n",
    "            if label.get('parent') not in [None, '', 'None'] and\n",
    "               label.get('child') not in [None, '', 'None']\n",
    "        ]\n",
    "    return cleaned\n",
    "\n"
   ]
  },
  {
   "cell_type": "code",
   "execution_count": 52,
   "metadata": {},
   "outputs": [],
   "source": [
    "# Cleaned result\n",
    "cleaned_tst_rslt = clean_labels(test_data_rslt)"
   ]
  },
  {
   "cell_type": "code",
   "execution_count": 54,
   "metadata": {},
   "outputs": [],
   "source": [
    "def convert_into_df(data):\n",
    "    rows = []\n",
    "    for entry in cleaned_tst_rslt:\n",
    "        review = entry['review']\n",
    "        for label in entry['labels']:\n",
    "            rows.append({\n",
    "                \"review\": review,\n",
    "                \"parent\": label[\"parent\"],\n",
    "                \"child\": label[\"child\"]\n",
    "            })\n",
    "\n",
    "    df = pd.DataFrame(rows)\n",
    "    return df\n"
   ]
  },
  {
   "cell_type": "code",
   "execution_count": 55,
   "metadata": {},
   "outputs": [],
   "source": [
    "test_rslt_df = convert_into_df(cleaned_tst_rslt)\n",
    "test_rslt_df.to_csv(\"data/test_rslt.csv\", index=False)"
   ]
  },
  {
   "cell_type": "code",
   "execution_count": 56,
   "metadata": {},
   "outputs": [
    {
     "data": {
      "text/html": [
       "<div>\n",
       "<style scoped>\n",
       "    .dataframe tbody tr th:only-of-type {\n",
       "        vertical-align: middle;\n",
       "    }\n",
       "\n",
       "    .dataframe tbody tr th {\n",
       "        vertical-align: top;\n",
       "    }\n",
       "\n",
       "    .dataframe thead th {\n",
       "        text-align: right;\n",
       "    }\n",
       "</style>\n",
       "<table border=\"1\" class=\"dataframe\">\n",
       "  <thead>\n",
       "    <tr style=\"text-align: right;\">\n",
       "      <th></th>\n",
       "      <th>review</th>\n",
       "      <th>parent</th>\n",
       "      <th>child</th>\n",
       "    </tr>\n",
       "  </thead>\n",
       "  <tbody>\n",
       "    <tr>\n",
       "      <th>0</th>\n",
       "      <td>100 % for men to attract hot and beautiful wom...</td>\n",
       "      <td>Efficacy</td>\n",
       "      <td>Desired Results</td>\n",
       "    </tr>\n",
       "    <tr>\n",
       "      <th>1</th>\n",
       "      <td>100 % for men to attract hot and beautiful wom...</td>\n",
       "      <td>Fragrance</td>\n",
       "      <td>Masculine Fragrance</td>\n",
       "    </tr>\n",
       "    <tr>\n",
       "      <th>2</th>\n",
       "      <td>100 % for men to attract hot and beautiful wom...</td>\n",
       "      <td>Companion Approval</td>\n",
       "      <td>Spouse / Partner</td>\n",
       "    </tr>\n",
       "    <tr>\n",
       "      <th>3</th>\n",
       "      <td>100 % for men to attract hot and beautiful wom...</td>\n",
       "      <td>Self Esteem</td>\n",
       "      <td>Self Confidence</td>\n",
       "    </tr>\n",
       "    <tr>\n",
       "      <th>4</th>\n",
       "      <td>100 % for men to attract hot and beautiful wom...</td>\n",
       "      <td>Price</td>\n",
       "      <td>Value Justification</td>\n",
       "    </tr>\n",
       "    <tr>\n",
       "      <th>...</th>\n",
       "      <td>...</td>\n",
       "      <td>...</td>\n",
       "      <td>...</td>\n",
       "    </tr>\n",
       "    <tr>\n",
       "      <th>10662</th>\n",
       "      <td>You might just fall in love with it!! I know I...</td>\n",
       "      <td>Skin Care</td>\n",
       "      <td>Skin Tightening</td>\n",
       "    </tr>\n",
       "    <tr>\n",
       "      <th>10663</th>\n",
       "      <td>You might just fall in love with it!! I know I...</td>\n",
       "      <td>Skin Texture Improvement</td>\n",
       "      <td>Softness</td>\n",
       "    </tr>\n",
       "    <tr>\n",
       "      <th>10664</th>\n",
       "      <td>You might just fall in love with it!! I know I...</td>\n",
       "      <td>Convenience</td>\n",
       "      <td>Multi-Purpose</td>\n",
       "    </tr>\n",
       "    <tr>\n",
       "      <th>10665</th>\n",
       "      <td>You might just fall in love with it!! I know I...</td>\n",
       "      <td>Convenience</td>\n",
       "      <td>Companion Approval</td>\n",
       "    </tr>\n",
       "    <tr>\n",
       "      <th>10666</th>\n",
       "      <td>You might just fall in love with it!! I know I...</td>\n",
       "      <td>Convenience</td>\n",
       "      <td>Spouse / Partner</td>\n",
       "    </tr>\n",
       "  </tbody>\n",
       "</table>\n",
       "<p>10667 rows × 3 columns</p>\n",
       "</div>"
      ],
      "text/plain": [
       "                                                  review  \\\n",
       "0      100 % for men to attract hot and beautiful wom...   \n",
       "1      100 % for men to attract hot and beautiful wom...   \n",
       "2      100 % for men to attract hot and beautiful wom...   \n",
       "3      100 % for men to attract hot and beautiful wom...   \n",
       "4      100 % for men to attract hot and beautiful wom...   \n",
       "...                                                  ...   \n",
       "10662  You might just fall in love with it!! I know I...   \n",
       "10663  You might just fall in love with it!! I know I...   \n",
       "10664  You might just fall in love with it!! I know I...   \n",
       "10665  You might just fall in love with it!! I know I...   \n",
       "10666  You might just fall in love with it!! I know I...   \n",
       "\n",
       "                         parent                child  \n",
       "0                      Efficacy      Desired Results  \n",
       "1                     Fragrance  Masculine Fragrance  \n",
       "2            Companion Approval     Spouse / Partner  \n",
       "3                   Self Esteem      Self Confidence  \n",
       "4                         Price  Value Justification  \n",
       "...                         ...                  ...  \n",
       "10662                 Skin Care      Skin Tightening  \n",
       "10663  Skin Texture Improvement             Softness  \n",
       "10664               Convenience        Multi-Purpose  \n",
       "10665               Convenience   Companion Approval  \n",
       "10666               Convenience     Spouse / Partner  \n",
       "\n",
       "[10667 rows x 3 columns]"
      ]
     },
     "execution_count": 56,
     "metadata": {},
     "output_type": "execute_result"
    }
   ],
   "source": [
    "test_rslt_df"
   ]
  },
  {
   "cell_type": "code",
   "execution_count": null,
   "metadata": {},
   "outputs": [],
   "source": []
  }
 ],
 "metadata": {
  "kernelspec": {
   "display_name": "base",
   "language": "python",
   "name": "python3"
  },
  "language_info": {
   "codemirror_mode": {
    "name": "ipython",
    "version": 3
   },
   "file_extension": ".py",
   "mimetype": "text/x-python",
   "name": "python",
   "nbconvert_exporter": "python",
   "pygments_lexer": "ipython3",
   "version": "3.13.5"
  }
 },
 "nbformat": 4,
 "nbformat_minor": 2
}
